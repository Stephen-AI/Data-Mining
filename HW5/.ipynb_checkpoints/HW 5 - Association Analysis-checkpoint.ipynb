{
 "cells": [
  {
   "cell_type": "markdown",
   "metadata": {},
   "source": [
    "# Association Analysis\n",
    "\n",
    "Association analysis uses machine learning to extract hidden relationships from large datasets. In this assignment you'll be implementing two of the most commonly used algorithms for association rule mining: Apriori and FP-Growth.\n",
    "\n",
    "The dataset (`large_retail.txt`) that we are going to use for this assignment has been adapted from the [Retail Market Basket Dataset](http://fimi.ua.ac.be/data/retail.pdf). The dataset contains transaction records supplied by an anonymous Belgian retail supermarket store. Each line in the file represents a separate transaction with the item ids separated by space. The dataset has 3000 transaction records and 99 different item ids.\n",
    "\n",
    "We also provide a smaller dataset (`small_retail.txt`) with 9 transactions and 5 different item ids along with the solutions. *You should first test your implementation on this dataset, before running it on the larger dataset.*\n",
    "\n",
    "The assignment will be **autograded**. We will use the `diff` command in linux to compare the output files. So please **check your answers** based on the given sample output files.\n",
    "\n",
    "Implementation Hint:\n",
    "\n",
    "- Use the `frozenset` data structure in Python (similar to `set` in functionality) to represent the itemsets because `frozenset` is a hashable data structure. You can maintain a dictionary that maps from the itemset (a `frozenset`) to its support count."
   ]
  },
  {
   "cell_type": "markdown",
   "metadata": {},
   "source": [
    "## Part 1 - Apriori Algorithm\n",
    "\n",
    "Apriori algorithm is a classical algorithm in data mining. It is used for mining frequent itemsets and relevant association rules. In this part, you'll be implementing this algorithm for generating the itemsets that occur more than the `min_sup` threshold. Based on these frequent itemsets you'll find association rules that have confidence above the `min_conf` threshold."
   ]
  },
  {
   "cell_type": "code",
   "execution_count": 1,
   "metadata": {},
   "outputs": [],
   "source": [
    "# Standard imports (you can add additional headers if you wish)\n",
    "import numpy as np"
   ]
  },
  {
   "cell_type": "code",
   "execution_count": 2,
   "metadata": {},
   "outputs": [],
   "source": [
    "# Reading the dataset from file\n",
    "def load_dataset(file_name):\n",
    "    with open(file_name, 'r') as f:\n",
    "        content = f.readlines()\n",
    "        data = [[int(x) for x in line.rstrip().split()] for line in content]\n",
    "    return data"
   ]
  },
  {
   "cell_type": "code",
   "execution_count": 3,
   "metadata": {},
   "outputs": [],
   "source": [
    "small_dataset = load_dataset('small_retail.txt')\n",
    "large_dataset = load_dataset('large_retail.txt')"
   ]
  },
  {
   "cell_type": "markdown",
   "metadata": {},
   "source": [
    "**Q1.** Implement the function `create_1_itemsets` that takes as input the entire dataset and returns a list of all the 1-itemsets. For example, for `small_retail.txt` it should return:\n",
    "~~~\n",
    "[frozenset({1}),\n",
    " frozenset({2}),\n",
    " frozenset({3}),\n",
    " frozenset({4}),\n",
    " frozenset({5})]\n",
    " ~~~\n",
    " Please **don't hardcode** the item ids, your code should support item ids that are non-sequential."
   ]
  },
  {
   "cell_type": "code",
   "execution_count": 4,
   "metadata": {},
   "outputs": [],
   "source": [
    "def create_1_itemsets(dataset):\n",
    "    c1 = set()\n",
    "    \n",
    "    for items in dataset:\n",
    "        for item in items:\n",
    "            c1.add(frozenset([item]))\n",
    "    return list(c1)"
   ]
  },
  {
   "cell_type": "markdown",
   "metadata": {},
   "source": [
    "**Q2.** Implement function `filter_candidates` that takes as input the candidate itemsets, the dataset, and the minumum support count `min_sup`, and filters out candidates that don't meet the support threshold.\n",
    "\n",
    "**Hint:** You should also return the support count information (perhaps as a `dict`) for the itemsets. This will be useful later on for the final output."
   ]
  },
  {
   "cell_type": "code",
   "execution_count": 5,
   "metadata": {},
   "outputs": [],
   "source": [
    "def filter_candidates(candidates, dataset, min_sup):\n",
    "    retlist = []\n",
    "    support_data = {}\n",
    "    for candidate in candidates:\n",
    "        for items in dataset:\n",
    "            if candidate <= set(items): # maybe need to do set(items)\n",
    "                if candidate in support_data:\n",
    "                    support_data[candidate] += 1\n",
    "                else:\n",
    "                    support_data[candidate] = 1\n",
    "    \n",
    "    filtered_support_data = {}\n",
    "    for candidate, support_count in support_data.items():\n",
    "        if support_count >= min_sup:\n",
    "            retlist.append(candidate)\n",
    "            filtered_support_data[candidate] = support_count\n",
    "    \n",
    "    return retlist, filtered_support_data"
   ]
  },
  {
   "cell_type": "markdown",
   "metadata": {},
   "source": [
    "**Q3.** Implement the function `generate_next_itemsets` that takes in frequent itemsets of size `k` and generates candidate itemsets of size `k + 1`.\n",
    "\n",
    "**Hint:** Use the fact that if `[1, 2, 3, 4]` is a frequent itemset of size 4 then `[1, 2, 3]` and `[1, 2, 4]` both will be frequent itemsets of size 3. You can use this to drastically reduce the number of candidate itemsets that you need to generate. (Use the F(k-1) x F(k-1) or F(k-1) x F(1) candidate generation method)."
   ]
  },
  {
   "cell_type": "code",
   "execution_count": 6,
   "metadata": {},
   "outputs": [],
   "source": [
    "def generate_next_itemsets(freq_sets):\n",
    "    retlist = set()\n",
    "    \n",
    "    for i in range(len(freq_sets)):\n",
    "        cur_item_set = freq_sets[i]\n",
    "        for j in range(i + 1, len(freq_sets)):\n",
    "            next_item_set = freq_sets[j]\n",
    "            candidate = cur_item_set | next_item_set\n",
    "            if len(candidate) == len(cur_item_set) + 1:\n",
    "                retlist.add(candidate)\n",
    "    return list(retlist)"
   ]
  },
  {
   "cell_type": "markdown",
   "metadata": {},
   "source": [
    "**Q4.** Implement the function `apriori_freq_temsets` that takes the entire dataset as the input and returns the frequent itemsets that have support count more than `min_sup`."
   ]
  },
  {
   "cell_type": "code",
   "execution_count": 7,
   "metadata": {},
   "outputs": [],
   "source": [
    "def apriori_freq_itemsets(dataset, minsup):\n",
    "     # your code goes here\n",
    "    freq_itemsets = []\n",
    "    cur_itemsets = create_1_itemsets(dataset)\n",
    "    cur_itemsets, support_data = filter_candidates(cur_itemsets, dataset, minsup)\n",
    "    while cur_itemsets:\n",
    "        freq_itemsets.append(cur_itemsets)\n",
    "        candidates = generate_next_itemsets(cur_itemsets)\n",
    "        cur_itemsets, cur_sup_data = filter_candidates(candidates, dataset, minsup)\n",
    "        support_data.update(cur_sup_data)\n",
    "    return freq_itemsets, support_data"
   ]
  },
  {
   "cell_type": "markdown",
   "metadata": {},
   "source": [
    "**Q5.** Display the frequent item sets in the form of a table along with their `support_fraction` for the `large_retail.txt` dataset with min support count 300.\n",
    "\n",
    "Sample Table Format (tab separated table)\n",
    "\n",
    "~~~\n",
    "Sup     Freq Itemset\n",
    "0.67\t[1]\n",
    "0.44\t[1, 2]\n",
    "(and so on)\n",
    "...\n",
    "...\n",
    "~~~\n",
    "\n",
    "`support_fraction(itemset) = support_count(itemset) / num_total_transactions`.\n",
    "\n",
    "Note that the `support_fraction` should be rounded to the nearest 2 decimal places (use `round(sup, 2)`). Also `support_fraction` and the itemset should be separated by a tab (`'\\t'`). The itemsets should also be in a sorted order where smaller itemsets should come before larger itemsets and itemsets of the same size should be sorted amongst themselves.\n",
    "\n",
    "For eg. \n",
    "~~~~\n",
    "[1, 2] should come before [1, 2, 3]\n",
    "[1, 2, 3] should come before [1, 2, 4]\n",
    "[1, 2, 3] should come before [1, 4, 5]\n",
    "[1, 2, 3] should come before [2, 3, 4]\n",
    "~~~~\n",
    "\n",
    "Note that **this order is very important** because your output will be checked using the `diff` command. The output also **shouldn't contain any duplicates**. The sample output for the `small_retail.txt` dataset with min support count as 2 is:\n",
    "\n",
    "~~~~\n",
    "Sup     Freq Itemset\n",
    "0.67\t[1]\n",
    "0.78\t[2]\n",
    "0.67\t[3]\n",
    "0.22\t[4]\n",
    "0.22\t[5]\n",
    "0.44\t[1, 2]\n",
    "0.44\t[1, 3]\n",
    "0.22\t[1, 5]\n",
    "0.44\t[2, 3]\n",
    "0.22\t[2, 4]\n",
    "0.22\t[2, 5]\n",
    "0.22\t[1, 2, 3]\n",
    "0.22\t[1, 2, 5]\n",
    "~~~~\n",
    "\n",
    "**Store** this output for the `large_retail.txt` dataset in the file `apriori_itemsets.txt`. The sample output file for the `small_retail.txt` dataset has been provided to you as `small_apriori_itemsets.txt` for your convenience."
   ]
  },
  {
   "cell_type": "code",
   "execution_count": 8,
   "metadata": {},
   "outputs": [],
   "source": [
    "# your code goes here\n",
    "def print_support(support_count, freq_itemsets, dataset, fi):\n",
    "    num_transactions = len(dataset)\n",
    "    print(\"Sup\\tFreq Itemset\", file=fi)\n",
    "    for itemsets in freq_itemsets:\n",
    "        itemsets_as_list = [list(itemset) for itemset in itemsets]\n",
    "        for itemset in sorted(itemsets_as_list):\n",
    "            count = support_count[frozenset(itemset)]\n",
    "            sup = count / num_transactions\n",
    "            print(\"{}\\t{}\".format(round(sup, 2), sorted(itemset)), file=fi)\n",
    "\n",
    "# apriori_freq_itemsets(small_dataset, 2)\n",
    "freq_itemsets, sup_data = apriori_freq_itemsets(large_dataset, 300) # compare correctness on piazza\n",
    "\n",
    "with open('apriori_itemsets.txt', 'w') as fi:\n",
    "    print_support(sup_data, freq_itemsets, large_dataset, fi)"
   ]
  },
  {
   "cell_type": "markdown",
   "metadata": {},
   "source": [
    "**Q6.** Find the closed frequent item sets along with their `support_fraction`. Store the results for the `large_retail.txt` dataset in the file `apriori_closed_itemsets.txt`, in the same format as specified in Q5."
   ]
  },
  {
   "cell_type": "code",
   "execution_count": 10,
   "metadata": {
    "scrolled": true
   },
   "outputs": [],
   "source": [
    "# your code goes here\n",
    "def find_closed_itemsets(freq_itemsets, sup_data):\n",
    "    closed = set()\n",
    "    for itemsets in freq_itemsets:\n",
    "        for itemset in itemsets:\n",
    "            cur_closed = True\n",
    "            for closed_itemset in closed:\n",
    "                # subset check\n",
    "                if itemset <= closed_itemset and sup_data[itemset] <= sup_data[closed_itemset]:\n",
    "                    cur_closed = False\n",
    "            # add ourself to closed itemset, do superset check\n",
    "            if cur_closed:\n",
    "                closed.add(itemset)\n",
    "                removed_subsets = set()\n",
    "                # find the subsets to remove\n",
    "                for closed_itemset in closed:\n",
    "                    if itemset > closed_itemset and sup_data[itemset] == sup_data[closed_itemset]:\n",
    "                        removed_subsets.add(closed_itemset)\n",
    "                closed -= removed_subsets\n",
    "                \n",
    "    closed_itemsets = []\n",
    "    for i in range(1, len(freq_itemsets) + 1):\n",
    "        cur_closed_itemsets = []\n",
    "        for itemset in closed:\n",
    "            if len(itemset) == i:\n",
    "                cur_closed_itemsets.append(itemset)\n",
    "        if cur_closed_itemsets:\n",
    "            closed_itemsets.append(cur_closed_itemsets)\n",
    "        \n",
    "    return closed_itemsets\n",
    "\n",
    "closed_itemsets = find_closed_itemsets(freq_itemsets, sup_data)\n",
    "with open('apriori_closed_itemsets.txt', 'w') as fi:\n",
    "    print_support(sup_data, closed_itemsets, large_dataset, fi)"
   ]
  },
  {
   "cell_type": "markdown",
   "metadata": {},
   "source": [
    "## Part 2 - Frequent Pattern Tree\n",
    "\n",
    "The FP-Growth Algorithm, proposed by [Han](https://www.cs.sfu.ca/~jpei/publications/sigmod00.pdf), is an efficient and scalable method for mining the complete set of frequent patterns by pattern fragment growth, using an extended prefix-tree structure for storing compressed and crucial information about frequent patterns named frequent-pattern tree (FP-tree)."
   ]
  },
  {
   "cell_type": "markdown",
   "metadata": {},
   "source": [
    "Use the following FPTreeNode class to build your FP Tree. You may add methods to it if you wish."
   ]
  },
  {
   "cell_type": "code",
   "execution_count": 11,
   "metadata": {},
   "outputs": [],
   "source": [
    "# variables:\n",
    "# self.item_id: item id of the item\n",
    "# self.item_count: item count for this node\n",
    "# self.node_link: next pointer for the linked list that connects\n",
    "#                 nodes of the same item_id (required for the FP-growth algorithm)\n",
    "# self.parent: pointer to the parent node (should be None for the root)\n",
    "# self.children: dictionary for the children (maps from item_id to the FPTreeNode object)\n",
    "# NOTE: root node should have item_id as -1\n",
    "class FPTreeNode:\n",
    "    def __init__(self, uid, num):\n",
    "        self.item_id = uid\n",
    "        self.item_count = num\n",
    "        self.node_link = None\n",
    "        self.parent = None\n",
    "        self.children = {}\n",
    "        \n",
    "    def insert_node(self, transaction, first_linked):\n",
    "        cur_node = self\n",
    "        for item in transaction:\n",
    "            if item in cur_node.children:\n",
    "                cur_node = cur_node.children[item]\n",
    "                cur_node.item_count += 1\n",
    "            else:\n",
    "                child_node = FPTreeNode(item, 1)\n",
    "                child_node.parent = cur_node\n",
    "                cur_node.children[item] = child_node\n",
    "                if item in first_linked:\n",
    "                    insert_node_link(cur_node, child_node)\n",
    "                else:\n",
    "                    first_linked[item] = child_node\n",
    "                cur_node = child_node\n",
    "        \n",
    "    def displayTree(self, tab=1):\n",
    "        if self.item_id == -1:\n",
    "            print ('  '*tab, 'root')\n",
    "        else:\n",
    "            print ('  '*tab, 'item_id:', self.item_id, 'item_count:', self.item_count)\n",
    "        for key in sorted(self.children.keys()):\n",
    "            self.children[key].displayTree(tab + 1)\n",
    "            \n",
    "    # helper function for saveToFile\n",
    "    def saveToFile_helper(self, fp, tab=1):\n",
    "        if self.item_id == -1:\n",
    "            print ('  '*tab, 'root', file=fp)\n",
    "        else:\n",
    "            print ('  '*tab, 'item_id:', self.item_id, 'item_count:', self.item_count, file=fp)\n",
    "        for key in sorted(self.children.keys()):\n",
    "            self.children[key].saveToFile_helper(fp, tab + 1)\n",
    "    \n",
    "    # call this to save to file\n",
    "    def saveToFile(self, filename):\n",
    "        with open(filename, 'w') as fp:\n",
    "            self.saveToFile_helper(fp)\n",
    "\n",
    "def insert_node_link(cur_node, new_node):\n",
    "    while cur_node.node_link:\n",
    "        cur_node = cur_node.node_link\n",
    "    cur_node.node_link = new_node\n"
   ]
  },
  {
   "cell_type": "markdown",
   "metadata": {},
   "source": [
    "**Q7.** Write the function `order_transactions` that takes in the dataset and reorders the items in each transaction based on their frequency (or support counts) and also removes any items that do not meet minsup. This function should return the reordered transactions as well as a dictionary containing the support counts of the frequent 1-itmesets.\n",
    "\n",
    "Note that **item_ids that have equal frequency should be ordered based on the item_id value**.\n",
    "\n",
    "For example,\n",
    "~~~~\n",
    "For the small_retail.txt dataset:\n",
    "{item_id: frequency} -> {1: 6, 2: 7, 3: 6, 4: 2, 5: 2}\n",
    "The transaction [1, 2, 3, 5] should be reordered as [2, 1, 3, 5]\n",
    "Notice the ordering of 1 and 3 (both have 6 occurences in the dataset)\n",
    "\n",
    "If minsup=3, [1, 2, 3, 5] should be reordered as [2, 1, 3] because 5 does not meet minsup.\n",
    "~~~~\n",
    "\n",
    "Note that the **relative order between transactions should not be changed**, they remain in the same order as they appear in the original dataset. For the `small_retail.txt` the transactions would be inserted in the FP Tree in this order:\n",
    "~~~~\n",
    "[2, 1, 5]\n",
    "[2, 4]\n",
    "[2, 3]\n",
    "[2, 1, 4]\n",
    "[1, 3]\n",
    "[2, 3]\n",
    "[1, 3]\n",
    "[2, 1, 3, 5]\n",
    "[2, 1, 3]\n",
    "~~~~"
   ]
  },
  {
   "cell_type": "code",
   "execution_count": 12,
   "metadata": {
    "scrolled": true
   },
   "outputs": [],
   "source": [
    "def order_transactions(dataset, minsup):\n",
    "    freq_cnt = {}\n",
    "    new_dataset = []\n",
    "    for transaction in dataset:\n",
    "        for item in transaction:\n",
    "            if item not in freq_cnt:\n",
    "                freq_cnt[item] = 0\n",
    "            freq_cnt[item] += 1\n",
    "    \n",
    "    for transaction in dataset:\n",
    "        sorted_transaction = sorted(transaction, key=lambda id: freq_cnt[id])\n",
    "        \n",
    "        while sorted_transaction and freq_cnt[sorted_transaction[-1]] < minsup:\n",
    "            sorted_transaction.pop()\n",
    "        if sorted_transaction:\n",
    "            new_dataset.append(sorted_transaction)\n",
    "    # your code goes here\n",
    "    return new_dataset, freq_cnt"
   ]
  },
  {
   "cell_type": "markdown",
   "metadata": {},
   "source": [
    "**Q8.** Implement the function `build_FP_tree` which takes the ordered itemsets from Q7 and inserts them into the FP Tree. Build the FP Tree for the `large_retail.txt` dataset and write the resulting tree out to `large_fp_tree.txt`.\n",
    "\n",
    "The tree output for `small_retail.txt` dataset is given as follows:\n",
    "~~~~\n",
    "   root\n",
    "     item_id: 1 item_count: 2\n",
    "       item_id: 3 item_count: 2\n",
    "     item_id: 2 item_count: 7\n",
    "       item_id: 1 item_count: 4\n",
    "         item_id: 3 item_count: 2\n",
    "           item_id: 5 item_count: 1\n",
    "         item_id: 4 item_count: 1\n",
    "         item_id: 5 item_count: 1\n",
    "       item_id: 3 item_count: 2\n",
    "       item_id: 4 item_count: 1\n",
    "~~~~\n",
    "This output has been provided to you as `small_fp_tree.txt` for your convenience. You can use the `diff` command in Linux to check your output with the provided output.\n",
    "\n",
    "\n"
   ]
  },
  {
   "cell_type": "code",
   "execution_count": 13,
   "metadata": {},
   "outputs": [],
   "source": [
    "def build_fp_tree (ordered_transactions):\n",
    "    \"\"\"\n",
    "    Builds an FP tree; importantly, links nodes with the same item_id and returns the first \n",
    "    node for each item_id in the first_linked_nodes dictionary\n",
    "    \n",
    "    parameters:\n",
    "        ordered_transactions: the transactions with items sorted in descending rate of occurence\n",
    "\n",
    "    returns:\n",
    "        root (FPTreeNode): the root node of the FP tree\n",
    "        first_linked_nodes (dict of int: FPTreeNode): a map from an item_id to first node of that\n",
    "                                                        item_id; following each node's node_link should \n",
    "                                                        yield every node with that item_id\n",
    "    \"\"\"        \n",
    "    root = FPTreeNode(-1, 0)\n",
    "    first_linked_nodes = {}\n",
    "    \n",
    "    # Your code here\n",
    "    for transaction in ordered_transactions:\n",
    "        root.insert_node(transaction, first_linked_nodes)\n",
    "    return root, first_linked_nodes\n"
   ]
  },
  {
   "cell_type": "markdown",
   "metadata": {},
   "source": [
    "**Q9.** Implement `build_cond_pat_base` which take in an FPTreeNode (representing an item) and builds its conditional pattern base. This essentially enumerates all paths in the tree that contain item's item_id.\n",
    "\n",
    "The item (FPTreeNode) that gets passed in to this function will be an FPTreeNode in your header table. This function will first find the path leading to this node. Then it will move to the next FPTreeNode with this same item_id by using `item.node_link` and find the path leading to that node. It will iterate over all items with this item_id by using `item.node_link`.\n",
    "\n",
    "NOTE: The conditional pattern base does not contain item itself. \n",
    "\n",
    "Return the conditional pattern base as a dictionary of tuples to ints representing the path to the item an how many of that item this path gets you to. For example, in the conditional pattern base for item_id 5 in `small_retail.txt` would be: `{(2, 1): 1, (2, 1, 3): 1}`"
   ]
  },
  {
   "cell_type": "code",
   "execution_count": 10,
   "metadata": {},
   "outputs": [],
   "source": [
    "from collections import deque\n",
    "def build_cond_pat_base(item):\n",
    "    \"\"\"\n",
    "    Builds a conditional pattern base for an item, starting with the first FPTreeNode of this item \n",
    "    and traversing the node_links to reach all other FPTreeNodes of this item.\n",
    "    \n",
    "    parameters:\n",
    "        item (FPTreeNode): the node we are building a conditional pattern base for\n",
    "    returns:\n",
    "        cond_pat_base (dict of tuple of int: int): conditional pattern base; the patterns with which item's \n",
    "                                                   item_id is found in transactions with and their associated\n",
    "                                                   counts\n",
    "    \"\"\"\n",
    "    cond_pat_base = {}\n",
    "    \n",
    "    # your code goes here\n",
    "    while item:\n",
    "        cur_node = item\n",
    "        cond_pat = deque()\n",
    "        count = cur_node.item_count\n",
    "        while cur_node.item_id > 0:\n",
    "            assert cur_node.item_count >= count\n",
    "            cur_node = cur_node.parent\n",
    "            cond_pat.appendleft(cur_node.item_id)\n",
    "            \n",
    "        assert cond_pat_tuple not in cond_pat_base\n",
    "        cond_pat_base[cond_pat_tuple] = count\n",
    "    \n",
    "    return cond_pat_base"
   ]
  },
  {
   "cell_type": "markdown",
   "metadata": {},
   "source": [
    "**Q10.** Implement the function `is_single_path` that takes in an FP-Tree root node and determines whether or not it is a single-path tree (no branches). Return True for a single-path tree, and False otherwise."
   ]
  },
  {
   "cell_type": "code",
   "execution_count": 14,
   "metadata": {},
   "outputs": [],
   "source": [
    "def is_single_path(fp_tree):  \n",
    "    # your code goes here\n",
    "    while fp_tree:\n",
    "        if len(fp_tree.children) > 1:\n",
    "            return False\n",
    "        else:\n",
    "            for child, value in fp_tree:\n",
    "                fp_tree = value\n",
    "                break\n",
    "    return True"
   ]
  },
  {
   "cell_type": "markdown",
   "metadata": {},
   "source": [
    "**Q11.** Now, implement the FP Growth algorithm to mine the FP-Tree for frequent patterns. \n",
    "\n",
    "Starting from the least frequent 1-itemsets:\n",
    "    1. build the conditional pattern base\n",
    "    2. build a new FP tree from the conditional pattern base\n",
    "You then need to handle the following cases:\n",
    "    1. the newly constructed FP tree has no children\n",
    "    2. the newly constructed FP tree is a single path tree\n",
    "    3. the newly constructed FP tree is not a single path tree\n",
    "    \n",
    "    If the new FP tree is not a single path tree, you will need to recurse.\n",
    "    If the new FP tree is a single path tree, you will need to enumerate the subsets of the path.\n",
    "\n",
    "You may add addition helper functions as you see fit. But remember you are only allowed to mine the FP tree that you generate in Q8. You *cannot use the dataset* other than in the first line of code provided here.\n",
    "\n",
    "**Store** the output of mining the `large_retail.txt` dataset with a minsup=300 in the file `fp_growth_itemsets.txt`.\n",
    "\n",
    "Hint: You can check your answer by comparing it to the output of your Apriori algorithm."
   ]
  },
  {
   "cell_type": "code",
   "execution_count": 13,
   "metadata": {},
   "outputs": [],
   "source": [
    "def fp_growth(dataset, minsup):\n",
    "\n",
    "    ordered_transactions, freq_items = order_transactions(dataset, minsup)\n",
    "    fp_tree, link_table = build_fp_tree(ordered_transactions)\n",
    "    \n",
    "    #your code goes here\n",
    "    \n"
   ]
  },
  {
   "cell_type": "markdown",
   "metadata": {},
   "source": [
    "## Part 3 - Extra Credit (+5 points)"
   ]
  },
  {
   "cell_type": "markdown",
   "metadata": {},
   "source": [
    "**Q12.** Generate the rules having confidence above `min_conf = 0.5` using the frequent itemsets generated in Q5. Display the rules in the form of a table.\n",
    "\n",
    "Sample table format (tab separated table)\n",
    "\n",
    "~~~\n",
    "Sup     Conf    Rule\n",
    "0.44\t0.67\t[1] -> [2]\n",
    "0.22\t1.0\t [5] -> [1, 2]\n",
    "0.22\t1.0\t [2, 5] -> [1]\n",
    "(and so on)\n",
    "...\n",
    "...\n",
    "~~~\n",
    "\n",
    "Note that rule confidence should be rounded to the nearest 2 decimal places (use `round(conf, 2)`). This table should also be tab (`'\\t'`) separated. The rules should be displayed in the sorted order. If a rule is given as `LHS -> RHS` then the rules for which `len(LHS)` is lesser should appear first. If the `len(LHS)` is equal for two rules then rules for which `len(RHS)` is lesser should appear first. If both `len(LHS)` and `len(RHS)` is equal then the rules should be sorted based on LHS first and then based on RHS.\n",
    "\n",
    "~~~~\n",
    "Note:\n",
    "LHS (Left Hand Side)\n",
    "RHS (Right Hand Side)\n",
    "~~~~\n",
    "\n",
    "For eg.\n",
    "~~~~\n",
    "[3] -> [2] should come before [1, 3] -> [4]\n",
    "[4] -> [2] should come before [2] -> [3, 4]\n",
    "[1, 3] -> [2] should come before [1, 5] -> [2]\n",
    "[1, 2] -> [3] should come before [1, 2] -> [5]\n",
    "~~~~\n",
    "\n",
    "Note that **this order is very important** because your output will be checked using the `diff` command. The sample output for the `small_retail.txt` dataset with `min_conf = 0.5` is:\n",
    "\n",
    "~~~~\n",
    "Sup\t Conf\tRule\n",
    "0.44\t0.67\t[1] -> [2]\n",
    "0.44\t0.67\t[1] -> [3]\n",
    "0.44\t0.57\t[2] -> [1]\n",
    "0.44\t0.57\t[2] -> [3]\n",
    "0.44\t0.67\t[3] -> [1]\n",
    "0.44\t0.67\t[3] -> [2]\n",
    "0.22\t1.0\t [4] -> [2]\n",
    "0.22\t1.0\t [5] -> [1]\n",
    "0.22\t1.0\t [5] -> [2]\n",
    "0.22\t1.0\t [5] -> [1, 2]\n",
    "0.22\t0.5\t [1, 2] -> [3]\n",
    "0.22\t0.5\t [1, 2] -> [5]\n",
    "0.22\t0.5\t [1, 3] -> [2]\n",
    "0.22\t1.0\t [1, 5] -> [2]\n",
    "0.22\t0.5\t [2, 3] -> [1]\n",
    "0.22\t1.0\t [2, 5] -> [1]\n",
    "~~~~\n",
    "\n",
    "**Store** this output for the `large_retail.txt` dataset in the file `apriori_rules.txt`. The sample output file for the `small_retail.txt` dataset has been provided to you as `small_apriori_rules.txt` for your convenience.\n",
    "\n",
    "**Hint:** You shouldn't traverse the entire dataset to compute the confidence for a rule since you have already computed the `support_data` for all the frequent itemsets. "
   ]
  },
  {
   "cell_type": "code",
   "execution_count": 14,
   "metadata": {},
   "outputs": [],
   "source": [
    "# your code goes here"
   ]
  }
 ],
 "metadata": {
  "kernelspec": {
   "display_name": "Python 3",
   "language": "python",
   "name": "python3"
  },
  "language_info": {
   "codemirror_mode": {
    "name": "ipython",
    "version": 3
   },
   "file_extension": ".py",
   "mimetype": "text/x-python",
   "name": "python",
   "nbconvert_exporter": "python",
   "pygments_lexer": "ipython3",
   "version": "3.6.7"
  }
 },
 "nbformat": 4,
 "nbformat_minor": 2
}

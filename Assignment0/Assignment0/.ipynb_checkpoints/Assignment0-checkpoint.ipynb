{
 "cells": [
  {
   "cell_type": "markdown",
   "metadata": {},
   "source": [
    "# Assignment 0: Intro to CS 363D\n",
    "\n",
    "Your UTCS accounts come with `python` installed but you can’t add packages to it (without root). Especially installing `scipy` and `numpy` on your own can be painful. We recommend using a local install of python, so that you can add any packages you need easily. We will use the python 3 version of [Anaconda](https://docs.continuum.io/), an open-source package and environment manager optimized for data science applications. It’s maintained by Austin-based Continuum Analytics."
   ]
  },
  {
   "cell_type": "markdown",
   "metadata": {},
   "source": [
    "## Part 1: Setting up your Jupyter Notebook\n",
    "\n",
    "### Installing Anaconda on personal computers\n",
    "\n",
    "* Make sure you have 2.5 GB free space available before you start installing. Use `baobab` to clear unused files and Chrome’s `.config` litter.\n",
    "* Download the Anaconda - Python 3.6 zip archive from the [official website](https://www.anaconda.com/download/#download). This file is `~500 MB`, and the uncompressed version will be `~2 GB`.\n",
    "\n",
    "~~~~\n",
    "$ wget https://repo.continuum.io/archive/Anaconda3-4.4.0-Linux-x86_64.sh\n",
    "# current as of this assignment\n",
    "$ bash Anaconda3-4.4.0-Linux-x86_x64.sh\n",
    "~~~~\n",
    "\n",
    "* Accept the license agreement and select an installation directory. (Note that the install location defaults to `~/anaconda3`)\n",
    "* It will take a few minutes to install. Please be patient.\n",
    "* It will ask you whether to add it to your bash path (your `~/.bashrc` file). Note that the default is “no”. We recommend saying **yes**.\n",
    "* Start a **new terminal**. Let’s make sure we’re using Anaconda’s Python we just installed.\n",
    "\n",
    "~~~~\n",
    "$ which python\n",
    "/u/pkar/anaconda3/bin/python\n",
    "# Note:- your username will appear in the path. Mine is 'pkar'.\n",
    "~~~~\n",
    "\n",
    "* Let’s start a notebook server.\n",
    "\n",
    "~~~~\n",
    "$ jupyter notebook\n",
    "~~~~\n",
    "\n",
    "* It should open a browser tab and start a local server.\n",
    "\n",
    "<img src=\"imgs/screen1.png\">\n",
    "\n",
    "* Create a directory for this course (I called mine CS363), and make a new Python 3 notebook.\n",
    "* Have a go at using the notebook interface. We’ll see more of what we can do with Jupyter notebooks in Part 2.\n",
    "\n",
    "### Installing Jupyter notebooks on lab computers\n",
    "\n",
    "The Anaconda install is too large for your allocated space in the computer lab. But you can still install Jupyter in the lab without installing Anaconda.\n",
    "\n",
    "First log into your favorite cs linux machine. Almost all required packages are already installed on those machines.\n",
    "\n",
    "~~~~\n",
    "pip3 install --user jupyter\n",
    "~~~~\n",
    "\n",
    "Let’s fire up jupyter:\n",
    "\n",
    "~~~~\n",
    "ipython3 notebook --no-browser\n",
    "~~~~\n",
    "\n",
    "If you’re logged in locally open a browser at the url printed out. Otherwise port forward\n",
    "\n",
    "~~~~\n",
    "ssh -NL PORT:localhost:PORT SERVER\n",
    "~~~~\n",
    "\n",
    "You can figure out the `PORT` from the url provided by ipython. `SERVER` is the url of the machine you started ipython on.\n",
    "\n",
    "Pro tip: If you want ipython to survive your SSH login, start it in a screen session.\n",
    "\n",
    "*Note: This guide is inspired from Prof. Philip Krähenbühl's Neural Network course ([CS 342](http://www.philkr.net/cs342/homework/01/install.html)).*\n",
    "\n",
    "### Additional Links\n",
    "\n",
    "* [Stanford CS 231N iPython Tutorial](http://cs231n.github.io/ipython-tutorial/)\n",
    "* [Jupyter Notebook Beginner Guide](https://jupyter-notebook-beginner-guide.readthedocs.io/en/latest/)\n",
    "* [Datacamp Jupyter Notebook Tutorial](https://www.datacamp.com/community/tutorials/tutorial-jupyter-notebook#gs.PV0TCww)\n",
    "\n",
    "You may have unforeseen difficulties with this portion of the assignment (not enough disk space, issues with permissions or package versions, conflicts with your personal `.bashrc` or `.zshrc` etc). \n",
    "**Please start early** and work with the TA (during office hours) or other classmates to resolve these."
   ]
  },
  {
   "cell_type": "markdown",
   "metadata": {},
   "source": [
    "## Part 2: A Simple Data Science Task\n",
    "\n",
    "For this task we'll be using the 1994 Adult Census Income data (`adult.csv`) collected by Ronny Kohavi and Barry Becker. This is a reasonably clean dataset with both categorical and integer attributes. The dataset consists of `32.5K` rows with 14 attributes.\n",
    "\n",
    "#### Attributes\n",
    "\n",
    "You can find a detailed description of the dataset [here](http://archive.ics.uci.edu/ml/machine-learning-databases/adult/adult.names).\n",
    "\n",
    "| Attribute Name \t\t| Type \t\t\t\t|\n",
    "| --------------------- | ----------------- |\n",
    "| age\t\t\t\t\t| continuous\t\t|\n",
    "| workclass\t\t\t\t| categorical\t\t|\n",
    "| fnlwgt\t\t\t\t| continuous\t\t|\n",
    "| education \t\t\t| categorical\t\t|\n",
    "| education-num\t\t\t| categorical\t\t|\n",
    "| marital-status\t\t| categorical\t\t|\n",
    "| occupation\t\t\t| categorical\t\t|\n",
    "| relationship\t\t\t| categorical\t\t|\n",
    "| race\t\t\t\t\t| categorical\t\t|\n",
    "| sex\t\t\t\t\t| categorical\t\t|\n",
    "| capital-gain\t\t\t| continuous\t\t|\n",
    "| capital-loss\t\t\t| continuous\t\t|\n",
    "| hours-per-week\t\t| continuous\t\t|\n",
    "| native-country\t\t| categorical\t\t|"
   ]
  },
  {
   "cell_type": "code",
   "execution_count": 1,
   "metadata": {},
   "outputs": [
    {
     "data": {
      "text/plain": [
       "'0.24.0'"
      ]
     },
     "execution_count": 1,
     "metadata": {},
     "output_type": "execute_result"
    }
   ],
   "source": [
    "# Standard Headers\n",
    "# You are welcome to add additional headers if you wish\n",
    "import pandas as pd\n",
    "import numpy as np\n",
    "import matplotlib.pyplot as plt\n",
    "pd.__version__"
   ]
  },
  {
   "cell_type": "code",
   "execution_count": 2,
   "metadata": {},
   "outputs": [],
   "source": [
    "# Enable inline mode for matplotlib so that IPython displays graphs.\n",
    "%matplotlib inline"
   ]
  },
  {
   "cell_type": "markdown",
   "metadata": {},
   "source": [
    "You can find more on reading (Comma Separated Value) CSV data as a Pandas dataframe [here](http://pandas.pydata.org/pandas-docs/stable/generated/pandas.read_csv.html)."
   ]
  },
  {
   "cell_type": "code",
   "execution_count": 3,
   "metadata": {},
   "outputs": [
    {
     "data": {
      "text/html": [
       "<div>\n",
       "<style scoped>\n",
       "    .dataframe tbody tr th:only-of-type {\n",
       "        vertical-align: middle;\n",
       "    }\n",
       "\n",
       "    .dataframe tbody tr th {\n",
       "        vertical-align: top;\n",
       "    }\n",
       "\n",
       "    .dataframe thead th {\n",
       "        text-align: right;\n",
       "    }\n",
       "</style>\n",
       "<table border=\"1\" class=\"dataframe\">\n",
       "  <thead>\n",
       "    <tr style=\"text-align: right;\">\n",
       "      <th></th>\n",
       "      <th>age</th>\n",
       "      <th>workclass</th>\n",
       "      <th>fnlwgt</th>\n",
       "      <th>education</th>\n",
       "      <th>education-num</th>\n",
       "      <th>marital-status</th>\n",
       "      <th>occupation</th>\n",
       "      <th>relationship</th>\n",
       "      <th>race</th>\n",
       "      <th>sex</th>\n",
       "      <th>capital-gain</th>\n",
       "      <th>capital-loss</th>\n",
       "      <th>hours-per-week</th>\n",
       "      <th>native-country</th>\n",
       "      <th>class</th>\n",
       "    </tr>\n",
       "  </thead>\n",
       "  <tbody>\n",
       "    <tr>\n",
       "      <th>0</th>\n",
       "      <td>39</td>\n",
       "      <td>State-gov</td>\n",
       "      <td>77516</td>\n",
       "      <td>Bachelors</td>\n",
       "      <td>13</td>\n",
       "      <td>Never-married</td>\n",
       "      <td>Adm-clerical</td>\n",
       "      <td>Not-in-family</td>\n",
       "      <td>White</td>\n",
       "      <td>Male</td>\n",
       "      <td>2174</td>\n",
       "      <td>0</td>\n",
       "      <td>40</td>\n",
       "      <td>United-States</td>\n",
       "      <td>&lt;=50K</td>\n",
       "    </tr>\n",
       "    <tr>\n",
       "      <th>1</th>\n",
       "      <td>50</td>\n",
       "      <td>Self-emp-not-inc</td>\n",
       "      <td>83311</td>\n",
       "      <td>Bachelors</td>\n",
       "      <td>13</td>\n",
       "      <td>Married-civ-spouse</td>\n",
       "      <td>Exec-managerial</td>\n",
       "      <td>Husband</td>\n",
       "      <td>White</td>\n",
       "      <td>Male</td>\n",
       "      <td>0</td>\n",
       "      <td>0</td>\n",
       "      <td>13</td>\n",
       "      <td>United-States</td>\n",
       "      <td>&lt;=50K</td>\n",
       "    </tr>\n",
       "    <tr>\n",
       "      <th>2</th>\n",
       "      <td>38</td>\n",
       "      <td>Private</td>\n",
       "      <td>215646</td>\n",
       "      <td>HS-grad</td>\n",
       "      <td>9</td>\n",
       "      <td>Divorced</td>\n",
       "      <td>Handlers-cleaners</td>\n",
       "      <td>Not-in-family</td>\n",
       "      <td>White</td>\n",
       "      <td>Male</td>\n",
       "      <td>0</td>\n",
       "      <td>0</td>\n",
       "      <td>40</td>\n",
       "      <td>United-States</td>\n",
       "      <td>&lt;=50K</td>\n",
       "    </tr>\n",
       "    <tr>\n",
       "      <th>3</th>\n",
       "      <td>53</td>\n",
       "      <td>Private</td>\n",
       "      <td>234721</td>\n",
       "      <td>High-school</td>\n",
       "      <td>7</td>\n",
       "      <td>Married-civ-spouse</td>\n",
       "      <td>Handlers-cleaners</td>\n",
       "      <td>Husband</td>\n",
       "      <td>Black</td>\n",
       "      <td>Male</td>\n",
       "      <td>0</td>\n",
       "      <td>0</td>\n",
       "      <td>40</td>\n",
       "      <td>United-States</td>\n",
       "      <td>&lt;=50K</td>\n",
       "    </tr>\n",
       "    <tr>\n",
       "      <th>4</th>\n",
       "      <td>28</td>\n",
       "      <td>Private</td>\n",
       "      <td>338409</td>\n",
       "      <td>Bachelors</td>\n",
       "      <td>13</td>\n",
       "      <td>Married-civ-spouse</td>\n",
       "      <td>Prof-specialty</td>\n",
       "      <td>Wife</td>\n",
       "      <td>Black</td>\n",
       "      <td>Female</td>\n",
       "      <td>0</td>\n",
       "      <td>0</td>\n",
       "      <td>40</td>\n",
       "      <td>Cuba</td>\n",
       "      <td>&lt;=50K</td>\n",
       "    </tr>\n",
       "  </tbody>\n",
       "</table>\n",
       "</div>"
      ],
      "text/plain": [
       "   age         workclass  fnlwgt    education  education-num  \\\n",
       "0   39         State-gov   77516    Bachelors             13   \n",
       "1   50  Self-emp-not-inc   83311    Bachelors             13   \n",
       "2   38           Private  215646      HS-grad              9   \n",
       "3   53           Private  234721  High-school              7   \n",
       "4   28           Private  338409    Bachelors             13   \n",
       "\n",
       "       marital-status         occupation   relationship   race     sex  \\\n",
       "0       Never-married       Adm-clerical  Not-in-family  White    Male   \n",
       "1  Married-civ-spouse    Exec-managerial        Husband  White    Male   \n",
       "2            Divorced  Handlers-cleaners  Not-in-family  White    Male   \n",
       "3  Married-civ-spouse  Handlers-cleaners        Husband  Black    Male   \n",
       "4  Married-civ-spouse     Prof-specialty           Wife  Black  Female   \n",
       "\n",
       "   capital-gain  capital-loss  hours-per-week native-country  class  \n",
       "0          2174             0              40  United-States  <=50K  \n",
       "1             0             0              13  United-States  <=50K  \n",
       "2             0             0              40  United-States  <=50K  \n",
       "3             0             0              40  United-States  <=50K  \n",
       "4             0             0              40           Cuba  <=50K  "
      ]
     },
     "execution_count": 3,
     "metadata": {},
     "output_type": "execute_result"
    }
   ],
   "source": [
    "# add skipinitialspace=True to skip spaces after delimiter (will be required later for the map function)\n",
    "adult_data = pd.read_csv(\"adult.csv\", skipinitialspace=True)\n",
    "# show the head of the data (first 5 values)\n",
    "adult_data.head()"
   ]
  },
  {
   "cell_type": "code",
   "execution_count": 4,
   "metadata": {},
   "outputs": [
    {
     "data": {
      "text/plain": [
       "age                int64\n",
       "workclass         object\n",
       "fnlwgt             int64\n",
       "education         object\n",
       "education-num      int64\n",
       "marital-status    object\n",
       "occupation        object\n",
       "relationship      object\n",
       "race              object\n",
       "sex               object\n",
       "capital-gain       int64\n",
       "capital-loss       int64\n",
       "hours-per-week     int64\n",
       "native-country    object\n",
       "class             object\n",
       "dtype: object"
      ]
     },
     "execution_count": 4,
     "metadata": {},
     "output_type": "execute_result"
    }
   ],
   "source": [
    "# display data types of various columns in a dataframe\n",
    "adult_data.dtypes"
   ]
  },
  {
   "cell_type": "markdown",
   "metadata": {},
   "source": [
    "Q1.\n",
    "1. Group the `adult_data` using the `marital-status` column. You may want to look at the `groupby()` method for dataframes [here](https://pandas.pydata.org/pandas-docs/stable/generated/pandas.DataFrame.groupby.html).\n",
    "2. Display the mean, median and standard deviation statistics of `hours-per-week` column for each `marital-status` column.\n",
    "3. Which marital status category has the maximum average work hours per week? which has the minimum?\n",
    "4. Which marital status category has the most variability in work hours per week? which has the least?"
   ]
  },
  {
   "cell_type": "code",
   "execution_count": 5,
   "metadata": {},
   "outputs": [
    {
     "data": {
      "text/html": [
       "<div>\n",
       "<style scoped>\n",
       "    .dataframe tbody tr th:only-of-type {\n",
       "        vertical-align: middle;\n",
       "    }\n",
       "\n",
       "    .dataframe tbody tr th {\n",
       "        vertical-align: top;\n",
       "    }\n",
       "\n",
       "    .dataframe thead th {\n",
       "        text-align: right;\n",
       "    }\n",
       "</style>\n",
       "<table border=\"1\" class=\"dataframe\">\n",
       "  <thead>\n",
       "    <tr style=\"text-align: right;\">\n",
       "      <th></th>\n",
       "      <th>count</th>\n",
       "      <th>mean</th>\n",
       "      <th>std</th>\n",
       "      <th>min</th>\n",
       "      <th>25%</th>\n",
       "      <th>50%</th>\n",
       "      <th>75%</th>\n",
       "      <th>max</th>\n",
       "    </tr>\n",
       "    <tr>\n",
       "      <th>marital-status</th>\n",
       "      <th></th>\n",
       "      <th></th>\n",
       "      <th></th>\n",
       "      <th></th>\n",
       "      <th></th>\n",
       "      <th></th>\n",
       "      <th></th>\n",
       "      <th></th>\n",
       "    </tr>\n",
       "  </thead>\n",
       "  <tbody>\n",
       "    <tr>\n",
       "      <th>Divorced</th>\n",
       "      <td>4443.0</td>\n",
       "      <td>41.246680</td>\n",
       "      <td>10.676632</td>\n",
       "      <td>1.0</td>\n",
       "      <td>40.0</td>\n",
       "      <td>40.0</td>\n",
       "      <td>45.0</td>\n",
       "      <td>99.0</td>\n",
       "    </tr>\n",
       "    <tr>\n",
       "      <th>Married-AF-spouse</th>\n",
       "      <td>23.0</td>\n",
       "      <td>41.130435</td>\n",
       "      <td>19.440596</td>\n",
       "      <td>3.0</td>\n",
       "      <td>39.0</td>\n",
       "      <td>40.0</td>\n",
       "      <td>47.0</td>\n",
       "      <td>90.0</td>\n",
       "    </tr>\n",
       "    <tr>\n",
       "      <th>Married-civ-spouse</th>\n",
       "      <td>14976.0</td>\n",
       "      <td>43.284856</td>\n",
       "      <td>11.905047</td>\n",
       "      <td>1.0</td>\n",
       "      <td>40.0</td>\n",
       "      <td>40.0</td>\n",
       "      <td>50.0</td>\n",
       "      <td>99.0</td>\n",
       "    </tr>\n",
       "    <tr>\n",
       "      <th>Married-spouse-absent</th>\n",
       "      <td>418.0</td>\n",
       "      <td>39.669856</td>\n",
       "      <td>11.767374</td>\n",
       "      <td>3.0</td>\n",
       "      <td>37.0</td>\n",
       "      <td>40.0</td>\n",
       "      <td>40.0</td>\n",
       "      <td>99.0</td>\n",
       "    </tr>\n",
       "    <tr>\n",
       "      <th>Never-married</th>\n",
       "      <td>10683.0</td>\n",
       "      <td>36.939998</td>\n",
       "      <td>12.432542</td>\n",
       "      <td>1.0</td>\n",
       "      <td>30.0</td>\n",
       "      <td>40.0</td>\n",
       "      <td>40.0</td>\n",
       "      <td>99.0</td>\n",
       "    </tr>\n",
       "    <tr>\n",
       "      <th>Separated</th>\n",
       "      <td>1025.0</td>\n",
       "      <td>39.301463</td>\n",
       "      <td>10.377534</td>\n",
       "      <td>2.0</td>\n",
       "      <td>37.0</td>\n",
       "      <td>40.0</td>\n",
       "      <td>40.0</td>\n",
       "      <td>99.0</td>\n",
       "    </tr>\n",
       "    <tr>\n",
       "      <th>Widowed</th>\n",
       "      <td>993.0</td>\n",
       "      <td>32.979859</td>\n",
       "      <td>14.058690</td>\n",
       "      <td>1.0</td>\n",
       "      <td>21.0</td>\n",
       "      <td>40.0</td>\n",
       "      <td>40.0</td>\n",
       "      <td>99.0</td>\n",
       "    </tr>\n",
       "  </tbody>\n",
       "</table>\n",
       "</div>"
      ],
      "text/plain": [
       "                         count       mean        std  min   25%   50%   75%  \\\n",
       "marital-status                                                                \n",
       "Divorced                4443.0  41.246680  10.676632  1.0  40.0  40.0  45.0   \n",
       "Married-AF-spouse         23.0  41.130435  19.440596  3.0  39.0  40.0  47.0   \n",
       "Married-civ-spouse     14976.0  43.284856  11.905047  1.0  40.0  40.0  50.0   \n",
       "Married-spouse-absent    418.0  39.669856  11.767374  3.0  37.0  40.0  40.0   \n",
       "Never-married          10683.0  36.939998  12.432542  1.0  30.0  40.0  40.0   \n",
       "Separated               1025.0  39.301463  10.377534  2.0  37.0  40.0  40.0   \n",
       "Widowed                  993.0  32.979859  14.058690  1.0  21.0  40.0  40.0   \n",
       "\n",
       "                        max  \n",
       "marital-status               \n",
       "Divorced               99.0  \n",
       "Married-AF-spouse      90.0  \n",
       "Married-civ-spouse     99.0  \n",
       "Married-spouse-absent  99.0  \n",
       "Never-married          99.0  \n",
       "Separated              99.0  \n",
       "Widowed                99.0  "
      ]
     },
     "execution_count": 5,
     "metadata": {},
     "output_type": "execute_result"
    }
   ],
   "source": [
    "# your code here\n",
    "marital_groups = adult_data.groupby(by=\"marital-status\")\n",
    "marital_groups['hours-per-week'].describe()\n",
    "# maximum: all except for Married-AF-spouse, minimum: Divorced, Married-civ-spouse, Never-married, Widowed\n",
    "# most variability: Married-AF-spouse, least variability: Separated"
   ]
  },
  {
   "cell_type": "markdown",
   "metadata": {},
   "source": [
    "Q2. Show the distribution of the dataset with respect to the `education` column. Which plot is most suitable for this? Use matplotlib (or a library of your choice) to plot the distribution."
   ]
  },
  {
   "cell_type": "code",
   "execution_count": 19,
   "metadata": {},
   "outputs": [
    {
     "data": {
      "text/plain": [
       "<matplotlib.axes._subplots.AxesSubplot at 0x7efbeff434a8>"
      ]
     },
     "execution_count": 19,
     "metadata": {},
     "output_type": "execute_result"
    },
    {
     "data": {
      "image/png": "[encoded data removed]",
      "text/plain": [
       "<Figure size 432x288 with 1 Axes>"
      ]
     },
     "metadata": {
      "needs_background": "light"
     },
     "output_type": "display_data"
    }
   ],
   "source": [
    "# your code here\n",
    "adult_data['education'].value_counts().plot.bar()"
   ]
  },
  {
   "cell_type": "code",
   "execution_count": 7,
   "metadata": {},
   "outputs": [],
   "source": [
    "# Please don't change this cell!!\n",
    "continent_dict = {\n",
    "    'Cambodia' : 'Asia',\n",
    "    'Canada' : 'North-America',\n",
    "    'China' : 'Asia',\n",
    "    'Columbia' : 'South-America',\n",
    "    'Cuba' : 'North-America',\n",
    "    'Dominican-Republic' : 'North-America',\n",
    "    'Ecuador' : 'South-America',\n",
    "    'El-Salvador' : 'North-America',\n",
    "    'England' : 'Europe',\n",
    "    'France' : 'Europe',\n",
    "    'Germany' : 'Europe',\n",
    "    'Greece' : 'Europe',\n",
    "    'Guatemala' : 'North-America',\n",
    "    'Haiti' : 'North-America',\n",
    "    'Holand-Netherlands' : 'Europe',\n",
    "    'Honduras' : 'North-America',\n",
    "    'Hong' : 'Asia',\n",
    "    'Hungary' : 'Europe',\n",
    "    'India' : 'Asia',\n",
    "    'Iran' : 'Asia',\n",
    "    'Ireland' : 'Europe',\n",
    "    'Italy' : 'Europe',\n",
    "    'Jamaica' : 'North-America',\n",
    "    'Japan' : 'Asia',\n",
    "    'Laos' : 'Asia',\n",
    "    'Mexico' : 'North-America',\n",
    "    'Nicaragua' : 'North-America',\n",
    "    'Outlying-US(Guam-USVI-etc)' : 'North-America',\n",
    "    'Peru' : 'South-America',\n",
    "    'Philippines' : 'Asia',\n",
    "    'Poland' : 'Europe',\n",
    "    'Portugal' : 'Europe',\n",
    "    'Puerto-Rico' : 'North-America',\n",
    "    'Scotland' : 'Europe',\n",
    "    'South' : 'Other',\n",
    "    'Taiwan' : 'Asia',\n",
    "    'Thailand' : 'Asia',\n",
    "    'Trinadad&Tobago' : 'South-America',\n",
    "    'United-States' : 'North-America',\n",
    "    'Vietnam' : 'Asia',\n",
    "    'Yugoslavia' : 'Europe',\n",
    "    '?' : 'Other'\n",
    "}"
   ]
  },
  {
   "cell_type": "markdown",
   "metadata": {},
   "source": [
    "Q3. Using the dictionary provided above, create a new column called `continent` using the existing `native-country` column in the dataframe. You may want to look at the `map()` method for dataframes."
   ]
  },
  {
   "cell_type": "code",
   "execution_count": 31,
   "metadata": {},
   "outputs": [
    {
     "name": "stdout",
     "output_type": "stream",
     "text": [
      "0        North-America\n",
      "1        North-America\n",
      "2        North-America\n",
      "3        North-America\n",
      "4        North-America\n",
      "5        North-America\n",
      "6        North-America\n",
      "7        North-America\n",
      "8        North-America\n",
      "9        North-America\n",
      "10       North-America\n",
      "11                Asia\n",
      "12       North-America\n",
      "13       North-America\n",
      "14               Other\n",
      "15       North-America\n",
      "16       North-America\n",
      "17       North-America\n",
      "18       North-America\n",
      "19       North-America\n",
      "20       North-America\n",
      "21       North-America\n",
      "22       North-America\n",
      "23       North-America\n",
      "24       North-America\n",
      "25       North-America\n",
      "26       North-America\n",
      "27               Other\n",
      "28       North-America\n",
      "29       North-America\n",
      "             ...      \n",
      "32531    North-America\n",
      "32532    North-America\n",
      "32533             Asia\n",
      "32534    North-America\n",
      "32535    North-America\n",
      "32536    North-America\n",
      "32537    North-America\n",
      "32538    North-America\n",
      "32539    North-America\n",
      "32540    North-America\n",
      "32541    North-America\n",
      "32542    North-America\n",
      "32543    North-America\n",
      "32544    North-America\n",
      "32545    North-America\n",
      "32546    North-America\n",
      "32547    North-America\n",
      "32548    North-America\n",
      "32549    North-America\n",
      "32550    North-America\n",
      "32551    North-America\n",
      "32552    North-America\n",
      "32553             Asia\n",
      "32554    North-America\n",
      "32555    North-America\n",
      "32556    North-America\n",
      "32557    North-America\n",
      "32558    North-America\n",
      "32559    North-America\n",
      "32560    North-America\n",
      "Name: continent, Length: 32561, dtype: object\n"
     ]
    }
   ],
   "source": [
    "# You may want to create a deep copy of the initial dataframe object\n",
    "# so that you can run this cell multiple times without errors.\n",
    "adult_data_copy = adult_data.copy()\n",
    "# your code goes here\n",
    "adult_data_copy['continent'] = adult_data_copy['native-country'].map(continent_dict)"
   ]
  },
  {
   "cell_type": "markdown",
   "metadata": {},
   "source": [
    "Q4. Plot a bar graph showing the average age of working adults from each continent, and show the standard deviation on the same graph.\n",
    "\n",
    "An example bar plot.\n",
    "<img src=\"imgs/screen3.png\">"
   ]
  },
  {
   "cell_type": "code",
   "execution_count": 40,
   "metadata": {},
   "outputs": [
    {
     "data": {
      "text/plain": [
       "<matplotlib.axes._subplots.AxesSubplot at 0x7efbedaf1240>"
      ]
     },
     "execution_count": 40,
     "metadata": {},
     "output_type": "execute_result"
    },
    {
     "data": {
      "image/png": "[encoded data removed]",
      "text/plain": [
       "<Figure size 432x288 with 1 Axes>"
      ]
     },
     "metadata": {
      "needs_background": "light"
     },
     "output_type": "display_data"
    }
   ],
   "source": [
    "# your code goes here\n",
    "adult_data_copy.groupby(by=\"continent\")['age'].describe().plot.bar(y=\"mean\", yerr=\"std\")"
   ]
  },
  {
   "cell_type": "markdown",
   "metadata": {},
   "source": [
    "Q5. To reduce the dimensionality of this dataset, which attribute or attributes would you eliminate? Explain why."
   ]
  },
  {
   "cell_type": "code",
   "execution_count": 10,
   "metadata": {},
   "outputs": [
    {
     "data": {
      "text/plain": [
       "'Explain why here (as a comment):\\n\\n\\n'"
      ]
     },
     "execution_count": 10,
     "metadata": {},
     "output_type": "execute_result"
    }
   ],
   "source": [
    "'''Explain why here (as a comment):\n",
    "I would eliminate education, because education-num already captures that data.\n",
    "\n",
    "'''"
   ]
  },
  {
   "cell_type": "markdown",
   "metadata": {},
   "source": [
    "## Part 3: Handling Missing Values\n",
    "\n",
    "For this task we'll be using a subset of the leaf dataset created by professors from University of Porto, Portugal. This dataset consists in a collection of shape and texture features extracted from digital images of leaf specimens originating from a total of 40 different plant species, but for the purpose of this assignment we're only going to consider 4 plant species.\n",
    "\n",
    "You can find more information about the dataset [here](http://archive.ics.uci.edu/ml/datasets/Leaf).\n",
    "\n",
    "<img src=\"imgs/screen4.png\">"
   ]
  },
  {
   "cell_type": "code",
   "execution_count": 58,
   "metadata": {},
   "outputs": [
    {
     "data": {
      "text/html": [
       "<div>\n",
       "<style scoped>\n",
       "    .dataframe tbody tr th:only-of-type {\n",
       "        vertical-align: middle;\n",
       "    }\n",
       "\n",
       "    .dataframe tbody tr th {\n",
       "        vertical-align: top;\n",
       "    }\n",
       "\n",
       "    .dataframe thead th {\n",
       "        text-align: right;\n",
       "    }\n",
       "</style>\n",
       "<table border=\"1\" class=\"dataframe\">\n",
       "  <thead>\n",
       "    <tr style=\"text-align: right;\">\n",
       "      <th></th>\n",
       "      <th>class</th>\n",
       "      <th>eccentricity</th>\n",
       "      <th>aspect-ratio</th>\n",
       "      <th>elongation</th>\n",
       "      <th>solidity</th>\n",
       "      <th>stochastic-convexity</th>\n",
       "      <th>isoperimetric-factor</th>\n",
       "      <th>maximal-indentation-depth</th>\n",
       "      <th>lobedness</th>\n",
       "      <th>average-intensity</th>\n",
       "      <th>average-contrast</th>\n",
       "      <th>smoothness</th>\n",
       "      <th>third-moment</th>\n",
       "      <th>uniformity</th>\n",
       "      <th>entropy</th>\n",
       "    </tr>\n",
       "  </thead>\n",
       "  <tbody>\n",
       "    <tr>\n",
       "      <th>0</th>\n",
       "      <td>1</td>\n",
       "      <td>NaN</td>\n",
       "      <td>1.0118</td>\n",
       "      <td>0.63010</td>\n",
       "      <td>0.57134</td>\n",
       "      <td>0.81053</td>\n",
       "      <td>0.16187</td>\n",
       "      <td>0.111150</td>\n",
       "      <td>2.248600</td>\n",
       "      <td>0.027309</td>\n",
       "      <td>0.088889</td>\n",
       "      <td>0.007839</td>\n",
       "      <td>0.002273</td>\n",
       "      <td>0.000175</td>\n",
       "      <td>0.86000</td>\n",
       "    </tr>\n",
       "    <tr>\n",
       "      <th>1</th>\n",
       "      <td>4</td>\n",
       "      <td>0.99512</td>\n",
       "      <td>10.3770</td>\n",
       "      <td>0.90564</td>\n",
       "      <td>0.92135</td>\n",
       "      <td>0.99825</td>\n",
       "      <td>0.17941</td>\n",
       "      <td>0.016647</td>\n",
       "      <td>0.050433</td>\n",
       "      <td>0.020400</td>\n",
       "      <td>0.071662</td>\n",
       "      <td>0.005109</td>\n",
       "      <td>0.001266</td>\n",
       "      <td>0.000170</td>\n",
       "      <td>0.71514</td>\n",
       "    </tr>\n",
       "    <tr>\n",
       "      <th>2</th>\n",
       "      <td>3</td>\n",
       "      <td>0.19287</td>\n",
       "      <td>1.0551</td>\n",
       "      <td>0.25044</td>\n",
       "      <td>0.93641</td>\n",
       "      <td>0.99474</td>\n",
       "      <td>0.47284</td>\n",
       "      <td>0.019693</td>\n",
       "      <td>0.070581</td>\n",
       "      <td>0.055935</td>\n",
       "      <td>0.130300</td>\n",
       "      <td>0.016694</td>\n",
       "      <td>0.004583</td>\n",
       "      <td>0.000440</td>\n",
       "      <td>1.41110</td>\n",
       "    </tr>\n",
       "    <tr>\n",
       "      <th>3</th>\n",
       "      <td>1</td>\n",
       "      <td>0.52212</td>\n",
       "      <td>1.1191</td>\n",
       "      <td>0.70988</td>\n",
       "      <td>0.50678</td>\n",
       "      <td>0.64912</td>\n",
       "      <td>0.14120</td>\n",
       "      <td>0.131920</td>\n",
       "      <td>3.167400</td>\n",
       "      <td>0.025478</td>\n",
       "      <td>0.085964</td>\n",
       "      <td>0.007336</td>\n",
       "      <td>0.002179</td>\n",
       "      <td>0.000149</td>\n",
       "      <td>0.82809</td>\n",
       "    </tr>\n",
       "    <tr>\n",
       "      <th>4</th>\n",
       "      <td>3</td>\n",
       "      <td>0.33254</td>\n",
       "      <td>1.1208</td>\n",
       "      <td>0.27473</td>\n",
       "      <td>0.93625</td>\n",
       "      <td>0.99474</td>\n",
       "      <td>0.49836</td>\n",
       "      <td>0.024394</td>\n",
       "      <td>0.108300</td>\n",
       "      <td>0.108090</td>\n",
       "      <td>0.168820</td>\n",
       "      <td>0.027709</td>\n",
       "      <td>0.005981</td>\n",
       "      <td>0.001234</td>\n",
       "      <td>2.48660</td>\n",
       "    </tr>\n",
       "  </tbody>\n",
       "</table>\n",
       "</div>"
      ],
      "text/plain": [
       "   class  eccentricity  aspect-ratio  elongation  solidity  \\\n",
       "0      1           NaN        1.0118     0.63010   0.57134   \n",
       "1      4       0.99512       10.3770     0.90564   0.92135   \n",
       "2      3       0.19287        1.0551     0.25044   0.93641   \n",
       "3      1       0.52212        1.1191     0.70988   0.50678   \n",
       "4      3       0.33254        1.1208     0.27473   0.93625   \n",
       "\n",
       "   stochastic-convexity  isoperimetric-factor  maximal-indentation-depth  \\\n",
       "0               0.81053               0.16187                   0.111150   \n",
       "1               0.99825               0.17941                   0.016647   \n",
       "2               0.99474               0.47284                   0.019693   \n",
       "3               0.64912               0.14120                   0.131920   \n",
       "4               0.99474               0.49836                   0.024394   \n",
       "\n",
       "   lobedness  average-intensity  average-contrast  smoothness  third-moment  \\\n",
       "0   2.248600           0.027309          0.088889    0.007839      0.002273   \n",
       "1   0.050433           0.020400          0.071662    0.005109      0.001266   \n",
       "2   0.070581           0.055935          0.130300    0.016694      0.004583   \n",
       "3   3.167400           0.025478          0.085964    0.007336      0.002179   \n",
       "4   0.108300           0.108090          0.168820    0.027709      0.005981   \n",
       "\n",
       "   uniformity  entropy  \n",
       "0    0.000175  0.86000  \n",
       "1    0.000170  0.71514  \n",
       "2    0.000440  1.41110  \n",
       "3    0.000149  0.82809  \n",
       "4    0.001234  2.48660  "
      ]
     },
     "execution_count": 58,
     "metadata": {},
     "output_type": "execute_result"
    }
   ],
   "source": [
    "leaf_data = pd.read_csv(\"leaf.csv\")\n",
    "leaf_data.head()"
   ]
  },
  {
   "cell_type": "markdown",
   "metadata": {},
   "source": [
    "Q6. Eccentricity of the leaf is a measure of how much the shape of the leaf varies from a perfect circle. Unfortunately the dataset is missing values in the `eccentricity` column. Fill in these missing values with something reasonable."
   ]
  },
  {
   "cell_type": "code",
   "execution_count": 59,
   "metadata": {},
   "outputs": [],
   "source": [
    "# your code goes here\n",
    "avg_ecc = leaf_data['eccentricity'].mean()\n",
    "leaf_data['eccentricity'] = leaf_data['eccentricity'].replace(np.nan, avg_ecc)"
   ]
  },
  {
   "cell_type": "markdown",
   "metadata": {},
   "source": [
    "Q7. Normalize the `eccentricity` column. Where `value_norm = (value - mean(value)) / std(value)`. Display the head of the new data frame."
   ]
  },
  {
   "cell_type": "code",
   "execution_count": 60,
   "metadata": {},
   "outputs": [
    {
     "data": {
      "text/html": [
       "<div>\n",
       "<style scoped>\n",
       "    .dataframe tbody tr th:only-of-type {\n",
       "        vertical-align: middle;\n",
       "    }\n",
       "\n",
       "    .dataframe tbody tr th {\n",
       "        vertical-align: top;\n",
       "    }\n",
       "\n",
       "    .dataframe thead th {\n",
       "        text-align: right;\n",
       "    }\n",
       "</style>\n",
       "<table border=\"1\" class=\"dataframe\">\n",
       "  <thead>\n",
       "    <tr style=\"text-align: right;\">\n",
       "      <th></th>\n",
       "      <th>class</th>\n",
       "      <th>eccentricity</th>\n",
       "      <th>aspect-ratio</th>\n",
       "      <th>elongation</th>\n",
       "      <th>solidity</th>\n",
       "      <th>stochastic-convexity</th>\n",
       "      <th>isoperimetric-factor</th>\n",
       "      <th>maximal-indentation-depth</th>\n",
       "      <th>lobedness</th>\n",
       "      <th>average-intensity</th>\n",
       "      <th>average-contrast</th>\n",
       "      <th>smoothness</th>\n",
       "      <th>third-moment</th>\n",
       "      <th>uniformity</th>\n",
       "      <th>entropy</th>\n",
       "    </tr>\n",
       "  </thead>\n",
       "  <tbody>\n",
       "    <tr>\n",
       "      <th>0</th>\n",
       "      <td>1</td>\n",
       "      <td>0.000000</td>\n",
       "      <td>1.0118</td>\n",
       "      <td>0.63010</td>\n",
       "      <td>0.57134</td>\n",
       "      <td>0.81053</td>\n",
       "      <td>0.16187</td>\n",
       "      <td>0.111150</td>\n",
       "      <td>2.248600</td>\n",
       "      <td>0.027309</td>\n",
       "      <td>0.088889</td>\n",
       "      <td>0.007839</td>\n",
       "      <td>0.002273</td>\n",
       "      <td>0.000175</td>\n",
       "      <td>0.86000</td>\n",
       "    </tr>\n",
       "    <tr>\n",
       "      <th>1</th>\n",
       "      <td>4</td>\n",
       "      <td>1.763441</td>\n",
       "      <td>10.3770</td>\n",
       "      <td>0.90564</td>\n",
       "      <td>0.92135</td>\n",
       "      <td>0.99825</td>\n",
       "      <td>0.17941</td>\n",
       "      <td>0.016647</td>\n",
       "      <td>0.050433</td>\n",
       "      <td>0.020400</td>\n",
       "      <td>0.071662</td>\n",
       "      <td>0.005109</td>\n",
       "      <td>0.001266</td>\n",
       "      <td>0.000170</td>\n",
       "      <td>0.71514</td>\n",
       "    </tr>\n",
       "    <tr>\n",
       "      <th>2</th>\n",
       "      <td>3</td>\n",
       "      <td>-1.545119</td>\n",
       "      <td>1.0551</td>\n",
       "      <td>0.25044</td>\n",
       "      <td>0.93641</td>\n",
       "      <td>0.99474</td>\n",
       "      <td>0.47284</td>\n",
       "      <td>0.019693</td>\n",
       "      <td>0.070581</td>\n",
       "      <td>0.055935</td>\n",
       "      <td>0.130300</td>\n",
       "      <td>0.016694</td>\n",
       "      <td>0.004583</td>\n",
       "      <td>0.000440</td>\n",
       "      <td>1.41110</td>\n",
       "    </tr>\n",
       "    <tr>\n",
       "      <th>3</th>\n",
       "      <td>1</td>\n",
       "      <td>-0.187259</td>\n",
       "      <td>1.1191</td>\n",
       "      <td>0.70988</td>\n",
       "      <td>0.50678</td>\n",
       "      <td>0.64912</td>\n",
       "      <td>0.14120</td>\n",
       "      <td>0.131920</td>\n",
       "      <td>3.167400</td>\n",
       "      <td>0.025478</td>\n",
       "      <td>0.085964</td>\n",
       "      <td>0.007336</td>\n",
       "      <td>0.002179</td>\n",
       "      <td>0.000149</td>\n",
       "      <td>0.82809</td>\n",
       "    </tr>\n",
       "    <tr>\n",
       "      <th>4</th>\n",
       "      <td>3</td>\n",
       "      <td>-0.969106</td>\n",
       "      <td>1.1208</td>\n",
       "      <td>0.27473</td>\n",
       "      <td>0.93625</td>\n",
       "      <td>0.99474</td>\n",
       "      <td>0.49836</td>\n",
       "      <td>0.024394</td>\n",
       "      <td>0.108300</td>\n",
       "      <td>0.108090</td>\n",
       "      <td>0.168820</td>\n",
       "      <td>0.027709</td>\n",
       "      <td>0.005981</td>\n",
       "      <td>0.001234</td>\n",
       "      <td>2.48660</td>\n",
       "    </tr>\n",
       "  </tbody>\n",
       "</table>\n",
       "</div>"
      ],
      "text/plain": [
       "   class  eccentricity  aspect-ratio  elongation  solidity  \\\n",
       "0      1      0.000000        1.0118     0.63010   0.57134   \n",
       "1      4      1.763441       10.3770     0.90564   0.92135   \n",
       "2      3     -1.545119        1.0551     0.25044   0.93641   \n",
       "3      1     -0.187259        1.1191     0.70988   0.50678   \n",
       "4      3     -0.969106        1.1208     0.27473   0.93625   \n",
       "\n",
       "   stochastic-convexity  isoperimetric-factor  maximal-indentation-depth  \\\n",
       "0               0.81053               0.16187                   0.111150   \n",
       "1               0.99825               0.17941                   0.016647   \n",
       "2               0.99474               0.47284                   0.019693   \n",
       "3               0.64912               0.14120                   0.131920   \n",
       "4               0.99474               0.49836                   0.024394   \n",
       "\n",
       "   lobedness  average-intensity  average-contrast  smoothness  third-moment  \\\n",
       "0   2.248600           0.027309          0.088889    0.007839      0.002273   \n",
       "1   0.050433           0.020400          0.071662    0.005109      0.001266   \n",
       "2   0.070581           0.055935          0.130300    0.016694      0.004583   \n",
       "3   3.167400           0.025478          0.085964    0.007336      0.002179   \n",
       "4   0.108300           0.108090          0.168820    0.027709      0.005981   \n",
       "\n",
       "   uniformity  entropy  \n",
       "0    0.000175  0.86000  \n",
       "1    0.000170  0.71514  \n",
       "2    0.000440  1.41110  \n",
       "3    0.000149  0.82809  \n",
       "4    0.001234  2.48660  "
      ]
     },
     "execution_count": 60,
     "metadata": {},
     "output_type": "execute_result"
    }
   ],
   "source": [
    "# your code goes here\n",
    "std_ecc = leaf_data['eccentricity'].std()\n",
    "leaf_data['eccentricity'] = leaf_data['eccentricity'].map(lambda x: (x - avg_ecc) / std_ecc)\n",
    "leaf_data.head()"
   ]
  },
  {
   "cell_type": "markdown",
   "metadata": {},
   "source": [
    "Q8. Plot a scatter plot between `smoothness` and normalized `eccentricity`. Place `smoothness` on the X axis."
   ]
  },
  {
   "cell_type": "code",
   "execution_count": 61,
   "metadata": {},
   "outputs": [
    {
     "data": {
      "text/plain": [
       "<matplotlib.axes._subplots.AxesSubplot at 0x7efbeda5a4a8>"
      ]
     },
     "execution_count": 61,
     "metadata": {},
     "output_type": "execute_result"
    },
    {
     "data": {
      "image/png": "[encoded data removed]",
      "text/plain": [
       "<Figure size 432x288 with 1 Axes>"
      ]
     },
     "metadata": {
      "needs_background": "light"
     },
     "output_type": "display_data"
    }
   ],
   "source": [
    "# your code goes here\n",
    "leaf_data.plot.scatter(x=\"smoothness\", y=\"eccentricity\")"
   ]
  },
  {
   "cell_type": "markdown",
   "metadata": {},
   "source": [
    "Q9. Now plot the same scatter plot as Q7 but give a different color to each `class` label. What can you infer from this plot (provide a short answer in the form of comments)?"
   ]
  },
  {
   "cell_type": "code",
   "execution_count": 64,
   "metadata": {},
   "outputs": [
    {
     "data": {
      "text/plain": [
       "<matplotlib.axes._subplots.AxesSubplot at 0x7efbed7fd320>"
      ]
     },
     "execution_count": 64,
     "metadata": {},
     "output_type": "execute_result"
    },
    {
     "data": {
      "image/png": "[encoded data removed]",
      "text/plain": [
       "<Figure size 432x288 with 2 Axes>"
      ]
     },
     "metadata": {
      "needs_background": "light"
     },
     "output_type": "display_data"
    }
   ],
   "source": [
    "# your code goes here\n",
    "leaf_data.plot.scatter(x=\"smoothness\", y=\"eccentricity\", c=\"class\", colormap='tab10')\n",
    "# class 4 leaves tend to have high eccentricity\n",
    "# class 3 leaves may have high smoothness, but other classes of leaves tend to have similar average smoohness"
   ]
  },
  {
   "cell_type": "markdown",
   "metadata": {},
   "source": [
    "Q10. Calculate the correlation between the normalized `eccentricity` and the `smoothness` column. "
   ]
  },
  {
   "cell_type": "code",
   "execution_count": 66,
   "metadata": {},
   "outputs": [
    {
     "data": {
      "text/plain": [
       "-0.3544184220755"
      ]
     },
     "execution_count": 66,
     "metadata": {},
     "output_type": "execute_result"
    }
   ],
   "source": [
    "# your code goes here\n",
    "leaf_data['smoothness'].corr(leaf_data['eccentricity'])"
   ]
  },
  {
   "cell_type": "markdown",
   "metadata": {},
   "source": [
    "Q11. Create a plot to determine if there are any outliers in the `average-contrast` attribute."
   ]
  },
  {
   "cell_type": "code",
   "execution_count": 68,
   "metadata": {},
   "outputs": [
    {
     "data": {
      "text/plain": [
       "<matplotlib.axes._subplots.AxesSubplot at 0x7efbed740588>"
      ]
     },
     "execution_count": 68,
     "metadata": {},
     "output_type": "execute_result"
    },
    {
     "data": {
      "image/png": "[encoded data removed]",
      "text/plain": [
       "<Figure size 432x288 with 1 Axes>"
      ]
     },
     "metadata": {
      "needs_background": "light"
     },
     "output_type": "display_data"
    }
   ],
   "source": [
    "# your code goes here\n",
    "leaf_data['average-contrast'].plot.hist()\n",
    "# the data points in the 0.15 - 0.20 could be considered outliers."
   ]
  },
  {
   "cell_type": "code",
   "execution_count": null,
   "metadata": {},
   "outputs": [],
   "source": []
  }
 ],
 "metadata": {
  "kernelspec": {
   "display_name": "Python 3",
   "language": "python",
   "name": "python3"
  },
  "language_info": {
   "codemirror_mode": {
    "name": "ipython",
    "version": 3
   },
   "file_extension": ".py",
   "mimetype": "text/x-python",
   "name": "python",
   "nbconvert_exporter": "python",
   "pygments_lexer": "ipython3",
   "version": "3.6.7"
  }
 },
 "nbformat": 4,
 "nbformat_minor": 2
}

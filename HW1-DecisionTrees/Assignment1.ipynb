{
 "cells": [
  {
   "cell_type": "markdown",
   "metadata": {},
   "source": [
    "#### This assignment may be worked individually or in pairs. Enter your name/names here:\n",
    "    "
   ]
  },
  {
   "cell_type": "code",
   "execution_count": 1,
   "metadata": {},
   "outputs": [],
   "source": [
    "#names here"
   ]
  },
  {
   "cell_type": "markdown",
   "metadata": {
    "collapsed": true
   },
   "source": [
    "# Assignment 1: Decision Trees\n",
    "\n",
    "In this assignment we'll implement the Decision Tree algorithm to classify patients as either having or not having diabetic retinopathy. For this task we'll be using the Diabetic Retinopathy data set, which contains features from the Messidor image set to predict whether an image contains signs of diabetic retinopathy or not. This dataset has `1151` instances and `20` attributes (some categorical, some continuous). You can find additional details about the dataset [here](http://archive.ics.uci.edu/ml/datasets/Diabetic+Retinopathy+Debrecen+Data+Set)."
   ]
  },
  {
   "cell_type": "markdown",
   "metadata": {},
   "source": [
    "Attribute Information:\n",
    "\n",
    "0) The binary result of quality assessment. 0 = bad quality 1 = sufficient quality.\n",
    "\n",
    "1) The binary result of pre-screening, where 1 indicates severe retinal abnormality and 0 its lack. \n",
    "\n",
    "2-7) The results of MA detection. Each feature value stand for the number of MAs found at the confidence levels alpha = 0.5, . . . , 1, respectively. \n",
    "\n",
    "8-15) contain the same information as 2-7) for exudates. However, as exudates are represented by a set of points rather than the number of pixels constructing the lesions, these features are normalized by dividing the \n",
    "number of lesions with the diameter of the ROI to compensate different image sizes. \n",
    "\n",
    "16) The euclidean distance of the center of the macula and the center of the optic disc to provide important information regarding the patient's condition. This feature is also normalized with the diameter of the ROI.\n",
    "\n",
    "17) The diameter of the optic disc. \n",
    "\n",
    "18) The binary result of the AM/FM-based classification.\n",
    "\n",
    "19) Class label. 1 = contains signs of Diabetic Retinopathy (Accumulative label for the Messidor classes 1, 2, 3), 0 = no signs of Diabetic Retinopathy.\n",
    "\n",
    "\n",
    "A few function prototypes are already given to you, please don't change those. You can add additional helper functions for your convenience. *Suggestion:* The dataset is substantially big, for the purpose of easy debugging work with a subset of the data and test your decision tree implementation on that."
   ]
  },
  {
   "cell_type": "markdown",
   "metadata": {},
   "source": [
    "#### Implementation: \n",
    "A few function prototypes are already given to you, please don't change those. You can add additional helper functions for your convenience. \n",
    "\n",
    "*Suggestion:* The dataset is substantially big, for the purpose of easy debugging, work with a subset of the data and test your decision tree implementation on that.\n",
    "\n",
    "#### Notes:\n",
    "Parts of this assignment will be **autograded** so a couple of caveats :-\n",
    "- Entropy is calculated using log with base 2, `math.log2(x)`.\n",
    "- For continuous features ensure that the threshold value lies exactly between 2 buckets. For example, if for feature 2 the best split occurs between 10 and 15 then the threshold value will be set as 12.5.\n",
    "- For binary features [0/1] the threshold value will be 0.5. All values < `thresh_val` go to the left child and all values >= `thresh_val` go to the right child."
   ]
  },
  {
   "cell_type": "code",
   "execution_count": 2,
   "metadata": {},
   "outputs": [],
   "source": [
    "# Standard Headers\n",
    "# You are welcome to add additional headers if you wish\n",
    "# EXCEPT for scikit-learn... You may NOT use scikit-learn for this assignment!\n",
    "import pandas as pd\n",
    "import numpy as np\n",
    "import matplotlib.pyplot as plt\n",
    "from math import log\n",
    "from random import shuffle"
   ]
  },
  {
   "cell_type": "code",
   "execution_count": 3,
   "metadata": {},
   "outputs": [],
   "source": [
    "class DataPoint:\n",
    "    def __str__(self):\n",
    "        return \"< \" + str(self.label) + \": \" + str(self.features) + \" >\"\n",
    "    def __init__(self, label, features):\n",
    "        self.label = label # the classification label of this data point\n",
    "        self.features = features"
   ]
  },
  {
   "cell_type": "markdown",
   "metadata": {},
   "source": [
    "Q1. Read data from a CSV file. Put it into a list of `DataPoints`."
   ]
  },
  {
   "cell_type": "code",
   "execution_count": 4,
   "metadata": {},
   "outputs": [],
   "source": [
    "def get_data(filename):\n",
    "    data = []\n",
    "#     your code goes here\n",
    "    data_frame = pd.read_csv(filename, header=None)\n",
    "    for row in data_frame.iterrows():\n",
    "        data.append(DataPoint(row[1][19], row[1][:19]))\n",
    "    return data"
   ]
  },
  {
   "cell_type": "code",
   "execution_count": 5,
   "metadata": {},
   "outputs": [],
   "source": [
    "class TreeNode:\n",
    "    is_leaf = True          # boolean variable to check if the node is a leaf\n",
    "    feature_idx = None      # index that identifies the feature\n",
    "    thresh_val = None       # threshold value that splits the node\n",
    "    prediction = None       # prediction class (only valid for leaf nodes)\n",
    "    left_child = None       # left TreeNode (all values < thresh_val)\n",
    "    right_child = None      # right TreeNode (all values >= thresh_val)\n",
    "    \n",
    "    def printTree(self):    # for debugging purposes\n",
    "        if self.is_leaf:\n",
    "            print ('Leaf Node:      predicts ' + str(self.prediction))\n",
    "        else:\n",
    "            print ('Internal Node:  splits on feature ' \n",
    "                   + str(self.feature_idx) + ' with threshold ' + str(self.thresh_val))\n",
    "            self.left_child.printTree()\n",
    "            self.right_child.printTree()"
   ]
  },
  {
   "cell_type": "markdown",
   "metadata": {},
   "source": [
    "Q2. Implement the function `make_prediction` that takes the decision tree root and a `DataPoint` instance and returns the prediction label."
   ]
  },
  {
   "cell_type": "code",
   "execution_count": 6,
   "metadata": {},
   "outputs": [],
   "source": [
    "def make_prediction(tree_root, data_point):\n",
    "#     your code goes here\n",
    "    if tree_root.is_leaf:\n",
    "        return tree_root.prediction\n",
    "    else:\n",
    "        data_point_val = data_point.features[tree_root.feature_idx]\n",
    "        if data_point_val < tree_root.thresh_val:\n",
    "            return make_prediction(tree_root.left_child, data_point)\n",
    "        else:\n",
    "            return make_prediction(tree_root.right_child, data_point)"
   ]
  },
  {
   "cell_type": "markdown",
   "metadata": {},
   "source": [
    "Q3. Implement the function `split_dataset` given an input data set, a `feature_idx` and the `threshold` for the feature. `left_split` will have all values < `threshold` and `right_split` will have all values >= `threshold`."
   ]
  },
  {
   "cell_type": "code",
   "execution_count": 7,
   "metadata": {},
   "outputs": [],
   "source": [
    "def split_dataset(data, feature_idx, threshold):\n",
    "    left_split = []\n",
    "    right_split = []\n",
    "#     your code goes here\n",
    "    for data_point in data:\n",
    "        if data_point.features[feature_idx] < threshold:\n",
    "            left_split.append(data_point)\n",
    "        else:\n",
    "            right_split.append(data_point)\n",
    "    return (left_split, right_split)"
   ]
  },
  {
   "cell_type": "markdown",
   "metadata": {},
   "source": [
    "Q4. Implement the function `calc_entropy` to return the entropy of the input dataset."
   ]
  },
  {
   "cell_type": "code",
   "execution_count": 8,
   "metadata": {},
   "outputs": [],
   "source": [
    "def calc_entropy(data):\n",
    "    entropy = 0.0\n",
    "#     your code goes here\n",
    "    if not data:\n",
    "        return entropy\n",
    "    positive = 0\n",
    "    negative = 0\n",
    "    for data_point in data:\n",
    "        if data_point.label:\n",
    "            positive += 1\n",
    "        else:\n",
    "            negative += 1\n",
    "    prop_pos = positive / (positive + negative)\n",
    "    prop_neg = negative / (positive + negative)\n",
    "    return calc_entropy_props(prop_pos, prop_neg)\n",
    "\n",
    "def calc_entropy_props(prop_pos, prop_neg):\n",
    "    entropy_pos = 0\n",
    "    if prop_pos:\n",
    "        entropy_pos = -prop_pos * log(prop_pos, 2)\n",
    "    entropy_neg = 0\n",
    "    if prop_neg:\n",
    "        entropy_neg = - prop_neg * log(prop_neg, 2)\n",
    "    return entropy_pos + entropy_neg"
   ]
  },
  {
   "cell_type": "markdown",
   "metadata": {},
   "source": [
    "Q5. Implement the function `calc_best_threshold` which returns the best information gain and the corresponding threshold value for one feature at `feature_idx`."
   ]
  },
  {
   "cell_type": "code",
   "execution_count": 9,
   "metadata": {},
   "outputs": [],
   "source": [
    "def calc_best_threshold(data, feature_idx):\n",
    "    best_info_gain = 0.0\n",
    "    best_thresh = None\n",
    "    binary_features = (0, 1, 18)\n",
    "    data_entropy = calc_entropy(data)\n",
    "#     your code goes here\n",
    "    if feature_idx in binary_features:\n",
    "        left, right = split_dataset(data, feature_idx, 0.5)\n",
    "        len_left = len(left)\n",
    "        len_right = len(right)\n",
    "        prop_left =  len_left/ (len_left + len_right)\n",
    "        prop_right = len_right / (len_left + len_right)\n",
    "        best_thresh = 0.5\n",
    "        best_info_gain = data_entropy - (prop_left * calc_entropy(left) + prop_right * calc_entropy(right))\n",
    "    else:\n",
    "        sorted_data = sorted(data, key=lambda x: x.features[feature_idx])\n",
    "        left_pos = 0\n",
    "        left_tot = 0\n",
    "        right_pos = 0\n",
    "        right_tot = len(sorted_data)\n",
    "        for data_point in data:\n",
    "            if data_point.label:\n",
    "                right_pos += 1\n",
    "        \n",
    "        for i in range(len(sorted_data) - 1):\n",
    "            cur_point = sorted_data[i]\n",
    "            next_point = sorted_data[i + 1]\n",
    "            if cur_point.label:\n",
    "                left_pos += 1\n",
    "                right_pos -= 1\n",
    "            left_tot += 1\n",
    "            right_tot -= 1\n",
    "            \n",
    "            if cur_point.label != next_point.label:\n",
    "                left_entropy = calc_entropy_props(left_pos / left_tot, (left_tot - left_pos) / left_tot)\n",
    "                right_entropy = calc_entropy_props(right_pos / right_tot, (right_tot - right_pos) / right_tot)\n",
    "                left_prop = left_tot / (left_tot + right_tot)\n",
    "                right_prop = 1 - left_prop\n",
    "                info_gain = data_entropy - left_prop * left_entropy - right_prop * right_entropy\n",
    "                if info_gain > best_info_gain:\n",
    "                    best_info_gain = info_gain\n",
    "                    best_thresh = (cur_point.features[feature_idx] + next_point.features[feature_idx]) / 2\n",
    "            \n",
    "    return (best_info_gain, best_thresh)"
   ]
  },
  {
   "cell_type": "markdown",
   "metadata": {},
   "source": [
    "Q6. Implement the function `identify_best_split` which returns the best feature to split on for an input dataset, and also returns the corresponding threshold value."
   ]
  },
  {
   "cell_type": "code",
   "execution_count": 10,
   "metadata": {},
   "outputs": [],
   "source": [
    "def identify_best_split(data):\n",
    "    if len(data) < 2:\n",
    "        return (None, None)\n",
    "    best_feature = None\n",
    "    best_thresh = None\n",
    "    best_gain = 0.0\n",
    "    for i in range(len(data[0].features)):\n",
    "        gain, thresh = calc_best_threshold(data, i)\n",
    "        if best_gain < gain:\n",
    "            best_feature = i\n",
    "            best_thresh = thresh\n",
    "            best_gain = gain\n",
    "    return (best_feature, best_thresh)"
   ]
  },
  {
   "cell_type": "markdown",
   "metadata": {},
   "source": [
    "Q7. Implement the function `createLeafNode` which returns a `TreeNode` with `is_leaf=True` and `prediction` set to whichever classification occurs most in the dataset at this node."
   ]
  },
  {
   "cell_type": "code",
   "execution_count": 11,
   "metadata": {},
   "outputs": [],
   "source": [
    "def createLeafNode(data):\n",
    "    leaf = TreeNode()\n",
    "    pos = 0\n",
    "    \n",
    "    for data_point in data:\n",
    "        if data_point.label:\n",
    "            pos += 1\n",
    "            \n",
    "    if pos > len(data) / 2:\n",
    "        leaf.prediction = 1.0\n",
    "    else:\n",
    "        leaf.prediction = 0.0\n",
    "        \n",
    "    return leaf"
   ]
  },
  {
   "cell_type": "markdown",
   "metadata": {},
   "source": [
    "Q8. Implement the `createDecisionTree` function. `max_levels` denotes the maximum height of the tree (for example if `max_levels = 1` then the decision tree will only contain the leaf node at the root. [Hint: this is where the recursion happens.]"
   ]
  },
  {
   "cell_type": "code",
   "execution_count": 12,
   "metadata": {},
   "outputs": [],
   "source": [
    "def createDecisionTree(data, max_levels):\n",
    "#     your code goes here\n",
    "    if max_levels == 1:\n",
    "        return createLeafNode(data)\n",
    "    else:\n",
    "        best_feature, best_thresh = identify_best_split(data)\n",
    "        if best_feature is None:\n",
    "            return createLeafNode(data)\n",
    "        left, right = split_dataset(data, best_feature, best_thresh)\n",
    "        if not left or not right:\n",
    "            return createLeafNode(data)\n",
    "        cur_node = TreeNode()\n",
    "        cur_node.left_child = createDecisionTree(left, max_levels - 1)\n",
    "        cur_node.right_child = createDecisionTree(right, max_levels - 1)\n",
    "        cur_node.is_leaf = False\n",
    "        cur_node.feature_idx = best_feature\n",
    "        cur_node.thresh_val = best_thresh\n",
    "        return cur_node"
   ]
  },
  {
   "cell_type": "markdown",
   "metadata": {},
   "source": [
    "Q9. Given a test set, the function `calcAccuracy` returns the accuracy of the classifier. You'll use the `makePrediction` function for this."
   ]
  },
  {
   "cell_type": "code",
   "execution_count": 13,
   "metadata": {},
   "outputs": [],
   "source": [
    "def calcAccuracy(tree_root, data):\n",
    "    total = 0\n",
    "    num_correct = 0\n",
    "    for data_point in data:\n",
    "        if make_prediction(tree_root, data_point) == data_point.label:\n",
    "            num_correct += 1\n",
    "        total += 1\n",
    "    \n",
    "    return num_correct / total"
   ]
  },
  {
   "cell_type": "markdown",
   "metadata": {},
   "source": [
    "Q10. Keeping the `max_levels` parameter as 10, use 5-fold cross validation to measure the accuracy of the model. Print the recall and precision of the model. Also display the confusion matrix."
   ]
  },
  {
   "cell_type": "code",
   "execution_count": 14,
   "metadata": {
    "scrolled": true
   },
   "outputs": [
    {
     "name": "stdout",
     "output_type": "stream",
     "text": [
      "Training set size: 921\n",
      "Test set size    : 230\n",
      "Time taken: 1.0745725631713867\n",
      "The accuracy on the test set  0  is  63.04347826086957\n",
      "Training set size: 921\n",
      "Test set size    : 230\n",
      "Time taken: 1.0341777801513672\n",
      "The accuracy on the test set  1  is  65.21739130434783\n",
      "Training set size: 921\n",
      "Test set size    : 230\n",
      "Time taken: 0.9987263679504395\n",
      "The accuracy on the test set  2  is  68.26086956521739\n",
      "Training set size: 921\n",
      "Test set size    : 230\n",
      "Time taken: 0.991776704788208\n",
      "The accuracy on the test set  3  is  65.65217391304347\n",
      "Training set size: 921\n",
      "Test set size    : 230\n",
      "Time taken: 0.8748905658721924\n",
      "The accuracy on the test set  4  is  65.21739130434783\n",
      "The average accuracy on the data set is:  0.6547826086956521\n"
     ]
    }
   ],
   "source": [
    "# edit the code here - this is just a sample to get you started\n",
    "import time\n",
    "\n",
    "d = get_data(\"messidor_features.txt\")\n",
    "test_set_len = len(d) // 5\n",
    "accuracies = []\n",
    "for i in range(5):\n",
    "# partition data into train_set and test_set\n",
    "    train_set = d[0:i * test_set_len] + d[(i + 1) * test_set_len:len(d)]\n",
    "    test_set = d[i * test_set_len:(i + 1) * test_set_len]\n",
    "\n",
    "    print ('Training set size:', len(train_set))\n",
    "    print ('Test set size    :', len(test_set))\n",
    "\n",
    "    # create the decision tree\n",
    "    start = time.time()\n",
    "    tree = createDecisionTree(train_set, 10)\n",
    "    end = time.time()\n",
    "    print ('Time taken:', end - start)\n",
    "\n",
    "    # calculate the accuracy of the tree\n",
    "    accuracy = calcAccuracy(tree, test_set)\n",
    "    accuracies.append(accuracy)\n",
    "    print ('The accuracy on the test set ', i, ' is ', str(accuracy * 100.0))\n",
    "avg_accuracy = sum(accuracies) / len(accuracies)\n",
    "print ('The average accuracy on the data set is: ', str(avg_accuracy)\n",
    "#t.printTree()"
   ]
  },
  {
   "cell_type": "code",
   "execution_count": null,
   "metadata": {},
   "outputs": [],
   "source": []
  }
 ],
 "metadata": {
  "kernelspec": {
   "display_name": "Python 3",
   "language": "python",
   "name": "python3"
  },
  "language_info": {
   "codemirror_mode": {
    "name": "ipython",
    "version": 3
   },
   "file_extension": ".py",
   "mimetype": "text/x-python",
   "name": "python",
   "nbconvert_exporter": "python",
   "pygments_lexer": "ipython3",
   "version": "3.6.7"
  }
 },
 "nbformat": 4,
 "nbformat_minor": 2
}
